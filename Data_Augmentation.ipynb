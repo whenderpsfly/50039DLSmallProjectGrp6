{
 "cells": [
  {
   "cell_type": "markdown",
   "metadata": {},
   "source": [
    "# Data augmentation"
   ]
  },
  {
   "cell_type": "markdown",
   "metadata": {},
   "source": [
    "In this file, we will try out some data augmentation on training set. Hopefully, these augmentation of training data will provide us with better accuracy when training the model."
   ]
  },
  {
   "cell_type": "code",
   "execution_count": 1,
   "metadata": {},
   "outputs": [],
   "source": [
    "from PIL import Image, ImageOps\n",
    "import os"
   ]
  },
  {
   "cell_type": "markdown",
   "metadata": {},
   "source": [
    "## 1.0 Mirror images for normal x-rays"
   ]
  },
  {
   "cell_type": "code",
   "execution_count": 13,
   "metadata": {},
   "outputs": [
    {
     "name": "stdout",
     "output_type": "stream",
     "text": [
      "Done creating mirrored images\n"
     ]
    }
   ],
   "source": [
    "train_normal_path = './dataset/train/normal'\n",
    "train_infected_path = './dataset/train/infected/non-covid'\n",
    "train_covid_path = './dataset/train/infected/covid'\n",
    "\n",
    "number_of_files = 0\n",
    "directory_normal = train_normal_path\n",
    "\n",
    "for file in os.listdir(directory_normal):\n",
    "    number_of_files += 1\n",
    "    \n",
    "\n",
    "for file in os.listdir(directory_normal):\n",
    "    full_path = train_normal_path + '/' + file\n",
    "    \n",
    "    new_path = './dataset_augmented/train/normal/'\n",
    "    \n",
    "    new_filename = new_path + str(number_of_files) + '.jpg'\n",
    "    old_filename = new_path + file\n",
    "    im = Image.open(full_path)\n",
    "    im.save(old_filename)\n",
    "    im_mirror = ImageOps.mirror(im)\n",
    "    im_mirror.save(new_filename)\n",
    "    number_of_files += 1\n",
    "    \n",
    "print(\"Done creating mirrored images for normal x-rays\")"
   ]
  },
  {
   "cell_type": "markdown",
   "metadata": {},
   "source": [
    "## 1.1 Mirror images for covid x-rays"
   ]
  },
  {
   "cell_type": "code",
   "execution_count": 14,
   "metadata": {},
   "outputs": [
    {
     "name": "stdout",
     "output_type": "stream",
     "text": [
      "Done creating mirrored images\n"
     ]
    }
   ],
   "source": [
    "train_normal_path = './dataset/train/normal'\n",
    "train_infected_path = './dataset/train/infected/non-covid'\n",
    "train_covid_path = './dataset/train/infected/covid'\n",
    "\n",
    "number_of_files = 0\n",
    "directory_covid = train_covid_path\n",
    "\n",
    "for file in os.listdir(directory_covid):\n",
    "    number_of_files += 1\n",
    "    \n",
    "\n",
    "for file in os.listdir(directory_covid):\n",
    "    full_path = train_covid_path + '/' + file\n",
    "    \n",
    "    new_path = './dataset_augmented/train/infected/covid/'\n",
    "    \n",
    "    new_filename = new_path + str(number_of_files) + '.jpg'\n",
    "    old_filename = new_path + file\n",
    "    im = Image.open(full_path)\n",
    "    im.save(old_filename)\n",
    "    im_mirror = ImageOps.mirror(im)\n",
    "    im_mirror.save(new_filename)\n",
    "    number_of_files += 1\n",
    "    \n",
    "print(\"Done creating mirrored images for covid\")"
   ]
  },
  {
   "cell_type": "markdown",
   "metadata": {},
   "source": [
    "## 1.2 Mirror images for non-covid but infected x-rays"
   ]
  },
  {
   "cell_type": "code",
   "execution_count": 15,
   "metadata": {},
   "outputs": [
    {
     "name": "stdout",
     "output_type": "stream",
     "text": [
      "Done creating mirrored images\n"
     ]
    }
   ],
   "source": [
    "train_normal_path = './dataset/train/normal'\n",
    "train_infected_path = './dataset/train/infected/non-covid'\n",
    "train_covid_path = './dataset/train/infected/covid'\n",
    "\n",
    "number_of_files = 0\n",
    "directory_infected = train_infected_path\n",
    "\n",
    "for file in os.listdir(directory_infected):\n",
    "    number_of_files += 1\n",
    "    \n",
    "\n",
    "for file in os.listdir(directory_infected):\n",
    "    full_path = train_infected_path + '/' + file\n",
    "    \n",
    "    new_path = './dataset_augmented/train/infected/non-covid/'\n",
    "    \n",
    "    new_filename = new_path + str(number_of_files) + '.jpg'\n",
    "    old_filename = new_path + file\n",
    "    im = Image.open(full_path)\n",
    "    im.save(old_filename)\n",
    "    im_mirror = ImageOps.mirror(im)\n",
    "    im_mirror.save(new_filename)\n",
    "    number_of_files += 1\n",
    "    \n",
    "print(\"Done creating mirrored images for infected\")"
   ]
  },
  {
   "cell_type": "markdown",
   "metadata": {},
   "source": [
    "## 2.0 Data augmentation by doing histogram equalization"
   ]
  },
  {
   "cell_type": "code",
   "execution_count": 33,
   "metadata": {},
   "outputs": [
    {
     "name": "stdout",
     "output_type": "stream",
     "text": [
      "Done\n",
      "Done\n",
      "Done\n"
     ]
    }
   ],
   "source": [
    "train_normal_path = './dataset/train/normal'\n",
    "train_infected_path = './dataset/train/infected/non-covid'\n",
    "train_covid_path = './dataset/train/infected/covid'\n",
    "\n",
    "test_normal_path = './dataset/test/normal'\n",
    "test_infected_path = './dataset/test/infected/non-covid'\n",
    "test_covid_path = './dataset/test/infected/covid'\n",
    "\n",
    "val_normal_path = './dataset/val/normal'\n",
    "val_infected_path = './dataset/val/infected/non-covid'\n",
    "val_covid_path = './dataset/val/infected/covid'\n",
    "\n",
    "try:\n",
    "    os.makedirs('./dataset_hist_equalization/train/normal')\n",
    "except FileExistsError:\n",
    "    pass\n",
    "try:\n",
    "    os.makedirs('./dataset_hist_equalization/train/infected/non-covid')\n",
    "except FileExistsError:\n",
    "    pass\n",
    "try:\n",
    "    os.mkdir('./dataset_hist_equalization/train/infected/covid')\n",
    "except FileExistsError:\n",
    "    pass\n",
    "try:\n",
    "    os.makedirs('./dataset_hist_equalization/test/normal')\n",
    "except FileExistsError:\n",
    "    pass\n",
    "try:\n",
    "    os.makedirs('./dataset_hist_equalization/test/infected/non-covid')\n",
    "except FileExistsError:\n",
    "    pass\n",
    "try:\n",
    "    os.mkdir('./dataset_hist_equalization/test/infected/covid')\n",
    "except FileExistsError:\n",
    "    pass\n",
    "try:\n",
    "    os.makedirs('./dataset_hist_equalization/val/normal')\n",
    "except FileExistsError:\n",
    "    pass\n",
    "try:\n",
    "    os.makedirs('./dataset_hist_equalization/val/infected/non-covid')\n",
    "except FileExistsError:\n",
    "    pass\n",
    "try:\n",
    "    os.mkdir('./dataset_hist_equalization/val/infected/covid')\n",
    "except FileExistsError:\n",
    "    pass\n",
    "\n",
    "\n",
    "def histogram_equalization(src_folder, dst_folder):\n",
    "    '''\n",
    "    datatype: 'train', 'test', or 'val' (string)\n",
    "    src_folder: folder for the original images (string)\n",
    "    dst_folder: foledr to store images that have been applied histogram equalization (string)\n",
    "    '''\n",
    "    pre_string = './' + src_folder\n",
    "    post_normal = '/normal'\n",
    "    post_infected = '/infected/non-covid'\n",
    "    post_covid = '/infected/covid'\n",
    "    \n",
    "    # PATH TO ORIGINAL IMAGES\n",
    "    normal_path = pre_string + post_normal\n",
    "    infected_path = pre_string + post_infected\n",
    "    covid_path = pre_string + post_covid\n",
    "    \n",
    "    # PATH TO NEW AUGMENTED IMAGES\n",
    "    dst_normal_path = './' + dst_folder + post_normal\n",
    "    dst_infected_path = './' + dst_folder + post_infected\n",
    "    dst_covid_path = './' + dst_folder + post_covid\n",
    "    \n",
    "    for file in os.listdir(normal_path):\n",
    "        new_filename = dst_normal_path + '/' + file\n",
    "        full_original_path = normal_path + '/' + file\n",
    "        im = Image.open(full_original_path)\n",
    "        im_mirror = ImageOps.equalize(im)\n",
    "        im_mirror.save(new_filename)\n",
    "\n",
    "        \n",
    "    for file in os.listdir(infected_path):\n",
    "        new_filename = dst_infected_path + '/' + file\n",
    "        full_original_path = infected_path + '/' + file\n",
    "        im = Image.open(full_original_path)\n",
    "        im_mirror = ImageOps.equalize(im)\n",
    "        im_mirror.save(new_filename)\n",
    "        \n",
    "        \n",
    "    for file in os.listdir(covid_path):\n",
    "        new_filename = dst_covid_path + '/' + file\n",
    "        full_original_path = covid_path + '/' + file\n",
    "        im = Image.open(full_original_path)\n",
    "        im_mirror = ImageOps.equalize(im)\n",
    "        im_mirror.save(new_filename)\n",
    "        \n",
    "    print('Done')\n",
    "\n",
    "src_folder = './dataset/val'\n",
    "dst_folder = './dataset_hist_equalization/val'\n",
    "histogram_equalization(src_folder, dst_folder)\n",
    "\n",
    "src_folder = './dataset/test'\n",
    "dst_folder = './dataset_hist_equalization/test'\n",
    "histogram_equalization(src_folder, dst_folder)\n",
    "\n",
    "src_folder = './dataset/train'\n",
    "dst_folder = './dataset_hist_equalization/train'\n",
    "histogram_equalization(src_folder, dst_folder)"
   ]
  },
  {
   "cell_type": "code",
   "execution_count": null,
   "metadata": {},
   "outputs": [],
   "source": []
  }
 ],
 "metadata": {
  "kernelspec": {
   "display_name": "Python 3",
   "language": "python",
   "name": "python3"
  },
  "language_info": {
   "codemirror_mode": {
    "name": "ipython",
    "version": 3
   },
   "file_extension": ".py",
   "mimetype": "text/x-python",
   "name": "python",
   "nbconvert_exporter": "python",
   "pygments_lexer": "ipython3",
   "version": "3.8.3"
  }
 },
 "nbformat": 4,
 "nbformat_minor": 4
}
